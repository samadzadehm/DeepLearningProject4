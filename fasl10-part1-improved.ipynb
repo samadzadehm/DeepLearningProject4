{
 "cells": [
  {
   "cell_type": "code",
   "execution_count": null,
   "outputs": [],
   "source": [
    "#clustering_improved"
   ],
   "metadata": {
    "collapsed": false
   }
  },
  {
   "cell_type": "code",
   "execution_count": 1,
   "outputs": [],
   "source": [
    "import re\n",
    "import nltk\n",
    "from sklearn.feature_extraction.text import TfidfVectorizer\n",
    "from collections import Counter\n",
    "from sklearn.cluster import KMeans\n",
    "#from sklearn.feature_extraction.text import CountVectorizer\n",
    "from nltk.stem import WordNetLemmatizer\n",
    "from nltk.corpus import names\n",
    "from sklearn.datasets import fetch_20newsgroups\n",
    "import numpy as np\n",
    "from matplotlib import pyplot as plt\n",
    "from nltk.corpus import stopwords"
   ],
   "metadata": {
    "collapsed": false,
    "ExecuteTime": {
     "start_time": "2023-06-12T14:04:48.958936Z",
     "end_time": "2023-06-12T14:04:50.798813Z"
    }
   }
  },
  {
   "cell_type": "code",
   "execution_count": 2,
   "outputs": [],
   "source": [
    "categories = [\n",
    "    'alt.atheism',\n",
    "    'talk.religion.misc',\n",
    "    'comp.graphics',\n",
    "    'sci.space',\n",
    "]"
   ],
   "metadata": {
    "collapsed": false,
    "ExecuteTime": {
     "start_time": "2023-06-12T14:05:02.706996Z",
     "end_time": "2023-06-12T14:05:02.722289Z"
    }
   }
  },
  {
   "cell_type": "code",
   "execution_count": 3,
   "outputs": [],
   "source": [
    "def clean_text(text):\n",
    "    # Convert to lowercase\n",
    "    text = text.lower()\n",
    "\n",
    "    # Remove special characters and digits\n",
    "    text = re.sub(r'[^a-zA-Z]', ' ', text)\n",
    "\n",
    "    # Tokenize the text\n",
    "    tokens = nltk.word_tokenize(text)\n",
    "\n",
    "    all_names = set(names.words())\n",
    "\n",
    "    # Remove stopwords and short words\n",
    "    stop_words = set(stopwords.words('english'))\n",
    "    tokens = [word for word in tokens if word not in stop_words and len(word) > 2]\n",
    "\n",
    "    # Lemmatize the tokens\n",
    "    lemmatizer = WordNetLemmatizer()\n",
    "    tokens = [lemmatizer.lemmatize(word) for word in tokens if word not in all_names]\n",
    "\n",
    "    # Join the tokens back into a single string\n",
    "    cleaned_text = ' '.join(tokens)\n",
    "\n",
    "    return cleaned_text"
   ],
   "metadata": {
    "collapsed": false,
    "ExecuteTime": {
     "start_time": "2023-06-12T14:05:24.551077Z",
     "end_time": "2023-06-12T14:05:24.568088Z"
    }
   }
  },
  {
   "cell_type": "code",
   "execution_count": 4,
   "outputs": [],
   "source": [
    "groups = fetch_20newsgroups(subset='all', categories=categories)\n",
    "\n",
    "labels = groups.target\n",
    "label_names = groups.target_names"
   ],
   "metadata": {
    "collapsed": false,
    "ExecuteTime": {
     "start_time": "2023-06-12T14:05:37.483612Z",
     "end_time": "2023-06-12T14:05:37.796431Z"
    }
   }
  },
  {
   "cell_type": "code",
   "execution_count": 5,
   "outputs": [],
   "source": [
    "data_cleaned = [clean_text(doc) for doc in groups.data]\n",
    "\n",
    "tfidf_vector = TfidfVectorizer(stop_words='english', max_features=5000, max_df=0.3, min_df=2)\n",
    "\n",
    "data = tfidf_vector.fit_transform(data_cleaned)"
   ],
   "metadata": {
    "collapsed": false,
    "ExecuteTime": {
     "start_time": "2023-06-12T14:05:55.796453Z",
     "end_time": "2023-06-12T14:06:18.806087Z"
    }
   }
  },
  {
   "cell_type": "code",
   "execution_count": 6,
   "outputs": [
    {
     "name": "stdout",
     "output_type": "stream",
     "text": [
      "k=1, SSE=57.62452819191313\n",
      "k=2, SSE=80.44825743274554\n",
      "k=3, SSE=87.29665510105053\n",
      "k=4, SSE=107.80713729096169\n",
      "k=5, SSE=114.67992907849614\n",
      "k=6, SSE=123.51095043170278\n"
     ]
    }
   ],
   "source": [
    "k_list = list(range(1, 7))\n",
    "sse_list = [0] * len(k_list)\n",
    "\n",
    "for k_ind, k in enumerate(k_list):\n",
    "    kmeans = KMeans(n_clusters=k, random_state=42)\n",
    "    kmeans.fit(data)\n",
    "    clusters = kmeans.labels_\n",
    "    centroids = kmeans.cluster_centers_\n",
    "\n",
    "    sse = 0\n",
    "    for i in range(k):\n",
    "        cluster_i = np.where(clusters == i)\n",
    "\n",
    "        sse += np.linalg.norm(data[cluster_i] - centroids[i])\n",
    "\n",
    "    print('k={}, SSE={}'.format(k, sse))\n",
    "    sse_list[k_ind] = sse"
   ],
   "metadata": {
    "collapsed": false,
    "ExecuteTime": {
     "start_time": "2023-06-12T14:06:24.686665Z",
     "end_time": "2023-06-12T14:06:30.570276Z"
    }
   }
  },
  {
   "cell_type": "code",
   "execution_count": 7,
   "outputs": [
    {
     "data": {
      "text/plain": "<Figure size 640x480 with 1 Axes>",
      "image/png": "[encoded data removed]"
     },
     "metadata": {},
     "output_type": "display_data"
    }
   ],
   "source": [
    "plt.plot(k_list, sse_list)\n",
    "plt.show()"
   ],
   "metadata": {
    "collapsed": false,
    "ExecuteTime": {
     "start_time": "2023-06-12T14:06:42.034615Z",
     "end_time": "2023-06-12T14:06:42.197532Z"
    }
   }
  },
  {
   "cell_type": "code",
   "execution_count": 8,
   "outputs": [
    {
     "name": "stdout",
     "output_type": "stream",
     "text": [
      "Counter({0: 1404, 3: 1073, 1: 642, 2: 119, 5: 77, 4: 72})\n",
      "cluster_0: 1404 samples\n",
      "alt.atheism: 647 samples\n",
      "talk.religion.misc: 523 samples\n",
      "sci.space: 150 samples\n",
      "comp.graphics: 84 samples\n",
      "Top 10 terms:\n",
      " [['shading' 'palmer' 'baube' ... 'say' 'people' 'god']]\n",
      "cluster_1: 642 samples\n",
      "sci.space: 610 samples\n",
      "comp.graphics: 15 samples\n",
      "alt.atheism: 9 samples\n",
      "talk.religion.misc: 8 samples\n",
      "Top 10 terms:\n",
      " [['aaron' 'juhana' 'judgment' ... 'access' 'nasa' 'space']]\n",
      "cluster_2: 119 samples\n",
      "alt.atheism: 112 samples\n",
      "talk.religion.misc: 7 samples\n",
      "Top 10 terms:\n",
      " [['aaron' 'nick' 'nickh' ... 'livesey' 'sgi' 'keith']]\n",
      "cluster_3: 1073 samples\n",
      "comp.graphics: 874 samples\n",
      "sci.space: 150 samples\n",
      "talk.religion.misc: 35 samples\n",
      "alt.atheism: 14 samples\n",
      "Top 10 terms:\n",
      " [['zoroastrian' 'nucleus' 'nu' ... 'image' 'file' 'graphic']]\n",
      "cluster_4: 72 samples\n",
      "talk.religion.misc: 55 samples\n",
      "alt.atheism: 17 samples\n",
      "Top 10 terms:\n",
      " [['aaron' 'nyx' 'oak' ... 'apple' 'kent' 'sandvik']]\n",
      "cluster_5: 77 samples\n",
      "sci.space: 77 samples\n",
      "Top 10 terms:\n",
      " [['lazarus' 'noao' 'noble' ... 'zoo' 'toronto' 'henry']]\n"
     ]
    }
   ],
   "source": [
    "from sklearn.cluster import AgglomerativeClustering\n",
    "\n",
    "agg_clustering = AgglomerativeClustering(n_clusters=k)\n",
    "agg_clusters = agg_clustering.fit_predict(data.toarray())\n",
    "\n",
    "print(Counter(agg_clusters))\n",
    "\n",
    "cluster_label = {i: labels[np.where(agg_clusters == i)] for i in range(k)}\n",
    "terms = tfidf_vector.get_feature_names_out()\n",
    "for cluster, index_list in cluster_label.items():\n",
    "    counter = Counter(cluster_label[cluster])\n",
    "    print('cluster_{}: {} samples'.format(cluster, len(index_list)))\n",
    "    for label_index, count in sorted(counter.items(), key=lambda x: x[1], reverse=True):\n",
    "        print('{}: {} samples'.format(label_names[label_index], count))\n",
    "    print('Top 10 terms:')\n",
    "    centroid_indices = np.where(agg_clusters == cluster)\n",
    "    centroid_values = data[centroid_indices].mean(axis=0).ravel()\n",
    "    top_terms_indices = centroid_values.argsort()[-10:]\n",
    "    for ind in top_terms_indices:\n",
    "        print(' %s' % terms[ind], end=\"\")\n",
    "    print()"
   ],
   "metadata": {
    "collapsed": false,
    "ExecuteTime": {
     "start_time": "2023-06-12T14:07:01.502410Z",
     "end_time": "2023-06-12T14:07:25.186460Z"
    }
   }
  }
 ],
 "metadata": {
  "kernelspec": {
   "display_name": "Python 3",
   "language": "python",
   "name": "python3"
  },
  "language_info": {
   "codemirror_mode": {
    "name": "ipython",
    "version": 2
   },
   "file_extension": ".py",
   "mimetype": "text/x-python",
   "name": "python",
   "nbconvert_exporter": "python",
   "pygments_lexer": "ipython2",
   "version": "2.7.6"
  }
 },
 "nbformat": 4,
 "nbformat_minor": 0
}
